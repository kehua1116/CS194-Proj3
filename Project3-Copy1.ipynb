{
 "cells": [
  {
   "cell_type": "code",
   "execution_count": 7,
   "metadata": {},
   "outputs": [],
   "source": [
    "import numpy as np\n",
    "import skimage as sk\n",
    "import skimage.io as skio\n",
    "import cv2 \n",
    "from scipy import signal\n",
    "from scipy.spatial import Delaunay\n",
    "from scipy import interpolate\n",
    "import scipy\n",
    "from skimage import color\n",
    "import math\n",
    "import matplotlib\n",
    "from matplotlib import pyplot as plt\n",
    "%matplotlib qt\n",
    "from skimage.draw import polygon\n",
    "\n",
    "import skimage.transform as sktr\n",
    "\n",
    "\n",
    "import sys, re\n",
    "from os import listdir\n",
    "from os.path import isfile, isdir, join\n",
    "import os"
   ]
  },
  {
   "cell_type": "markdown",
   "metadata": {},
   "source": [
    "## Defining Correspondencies "
   ]
  },
  {
   "cell_type": "code",
   "execution_count": 8,
   "metadata": {},
   "outputs": [],
   "source": [
    "def get_points(im1, im2):\n",
    "    print('Please select 2 points in each image for alignment.')\n",
    "    plt.imshow(im1)\n",
    "    p1, p2 = plt.ginput(2)\n",
    "    plt.close()\n",
    "    plt.imshow(im2)\n",
    "    p3, p4 = plt.ginput(2)\n",
    "    plt.close()\n",
    "    return (p1, p2, p3, p4)\n",
    "\n",
    "def recenter(im, r, c):\n",
    "    R, C, _ = im.shape\n",
    "    rpad = (int) (np.abs(2*r+1 - R))\n",
    "    cpad = (int) (np.abs(2*c+1 - C))\n",
    "    return np.pad(\n",
    "        im, [(0 if r > (R-1)/2 else rpad, 0 if r < (R-1)/2 else rpad),\n",
    "             (0 if c > (C-1)/2 else cpad, 0 if c < (C-1)/2 else cpad),\n",
    "             (0, 0)], 'constant')\n",
    "\n",
    "def find_centers(p1, p2):\n",
    "    cx = np.round(np.mean([p1[0], p2[0]]))\n",
    "    cy = np.round(np.mean([p1[1], p2[1]]))\n",
    "    return cx, cy\n",
    "\n",
    "def align_image_centers(im1, im2, pts):\n",
    "    p1, p2, p3, p4 = pts\n",
    "    h1, w1, b1 = im1.shape\n",
    "    h2, w2, b2 = im2.shape\n",
    "    \n",
    "    cx1, cy1 = find_centers(p1, p2)\n",
    "    cx2, cy2 = find_centers(p3, p4)\n",
    "\n",
    "    im1 = recenter(im1, cy1, cx1)\n",
    "    im2 = recenter(im2, cy2, cx2)\n",
    "    return im1, im2\n",
    "\n",
    "def rescale_images(im1, im2, pts):\n",
    "    p1, p2, p3, p4 = pts\n",
    "    len1 = np.sqrt((p2[1] - p1[1])**2 + (p2[0] - p1[0])**2)\n",
    "    len2 = np.sqrt((p4[1] - p3[1])**2 + (p4[0] - p3[0])**2)\n",
    "    dscale = len2/len1\n",
    "    if dscale < 1:\n",
    "        im1 = sktr.rescale(im1, dscale)\n",
    "    else:\n",
    "        im2 = sktr.rescale(im2, 1./dscale)\n",
    "    return im1, im2\n",
    "\n",
    "def rotate_im1(im1, im2, pts):\n",
    "    p1, p2, p3, p4 = pts\n",
    "    theta1 = math.atan2(-(p2[1] - p1[1]), (p2[0] - p1[0]))\n",
    "    theta2 = math.atan2(-(p4[1] - p3[1]), (p4[0] - p3[0]))\n",
    "    dtheta = theta2 - theta1\n",
    "    im1 = sktr.rotate(im1, dtheta*180/np.pi)\n",
    "    return im1, dtheta\n",
    "\n",
    "def match_img_size(im1, im2):\n",
    "    # Make images the same size\n",
    "    h1, w1, c1 = im1.shape\n",
    "    h2, w2, c2 = im2.shape\n",
    "    if h1 < h2:\n",
    "        im2 = im2[int(np.floor((h2-h1)/2.)) : -int(np.ceil((h2-h1)/2.)), :, :]\n",
    "    elif h1 > h2:\n",
    "        im1 = im1[int(np.floor((h1-h2)/2.)) : -int(np.ceil((h1-h2)/2.)), :, :]\n",
    "    if w1 < w2:\n",
    "        im2 = im2[:, int(np.floor((w2-w1)/2.)) : -int(np.ceil((w2-w1)/2.)), :]\n",
    "    elif w1 > w2:\n",
    "        im1 = im1[:, int(np.floor((w1-w2)/2.)) : -int(np.ceil((w1-w2)/2.)), :]\n",
    "    assert im1.shape == im2.shape\n",
    "    return im1, im2\n",
    "\n",
    "\n",
    "def align_images(im1, im2):\n",
    "    pts = get_points(im1, im2)\n",
    "    im1, im2 = align_image_centers(im1, im2, pts)\n",
    "    im1, im2 = rescale_images(im1, im2, pts)\n",
    "    im1, angle = rotate_im1(im1, im2, pts)\n",
    "    im1, im2 = match_img_size(im1, im2)\n",
    "    return im1, im2\n",
    "\n"
   ]
  },
  {
   "cell_type": "code",
   "execution_count": 9,
   "metadata": {},
   "outputs": [],
   "source": [
    "def correspondencies(im, num):\n",
    "    plt.imshow(im)\n",
    "    points = plt.ginput(num, timeout=200)\n",
    "    return points"
   ]
  },
  {
   "cell_type": "code",
   "execution_count": 12,
   "metadata": {},
   "outputs": [],
   "source": [
    "name = 'lucy.jpg'\n",
    "im1 = skio.imread(name) \n",
    "im1 = sk.img_as_float(im1)\n",
    "\n",
    "name = 'yanchu.jpg'\n",
    "im2 = skio.imread(name) \n",
    "im2 = sk.img_as_float(im2)"
   ]
  },
  {
   "cell_type": "code",
   "execution_count": 13,
   "metadata": {},
   "outputs": [
    {
     "data": {
      "text/plain": [
       "array([[[0.76862745, 0.76470588, 0.74509804],\n",
       "        [0.75294118, 0.74901961, 0.72941176],\n",
       "        [0.75294118, 0.74901961, 0.73333333],\n",
       "        ...,\n",
       "        [0.88627451, 0.89019608, 0.89803922],\n",
       "        [0.88627451, 0.89019608, 0.89803922],\n",
       "        [0.88627451, 0.89019608, 0.89803922]],\n",
       "\n",
       "       [[0.77254902, 0.76862745, 0.74901961],\n",
       "        [0.76078431, 0.75686275, 0.7372549 ],\n",
       "        [0.75686275, 0.75294118, 0.73333333],\n",
       "        ...,\n",
       "        [0.89019608, 0.89411765, 0.90196078],\n",
       "        [0.89019608, 0.89411765, 0.90196078],\n",
       "        [0.89019608, 0.89411765, 0.90196078]],\n",
       "\n",
       "       [[0.79607843, 0.78431373, 0.76470588],\n",
       "        [0.78431373, 0.77254902, 0.75294118],\n",
       "        [0.78039216, 0.76862745, 0.74901961],\n",
       "        ...,\n",
       "        [0.89803922, 0.90196078, 0.90980392],\n",
       "        [0.89803922, 0.90196078, 0.90980392],\n",
       "        [0.89803922, 0.90196078, 0.90980392]],\n",
       "\n",
       "       ...,\n",
       "\n",
       "       [[0.80392157, 0.82352941, 0.84705882],\n",
       "        [0.79215686, 0.81176471, 0.83529412],\n",
       "        [0.78039216, 0.8       , 0.82352941],\n",
       "        ...,\n",
       "        [0.78823529, 0.81568627, 0.84705882],\n",
       "        [0.78431373, 0.81176471, 0.84313725],\n",
       "        [0.78431373, 0.81176471, 0.84313725]],\n",
       "\n",
       "       [[0.8       , 0.81960784, 0.84313725],\n",
       "        [0.78431373, 0.80392157, 0.82745098],\n",
       "        [0.76470588, 0.78431373, 0.80784314],\n",
       "        ...,\n",
       "        [0.77254902, 0.8       , 0.83137255],\n",
       "        [0.77254902, 0.8       , 0.83137255],\n",
       "        [0.77647059, 0.80392157, 0.83529412]],\n",
       "\n",
       "       [[0.80392157, 0.82352941, 0.84705882],\n",
       "        [0.78431373, 0.80392157, 0.82745098],\n",
       "        [0.76078431, 0.78039216, 0.80392157],\n",
       "        ...,\n",
       "        [0.76078431, 0.78823529, 0.81960784],\n",
       "        [0.76470588, 0.79215686, 0.82352941],\n",
       "        [0.76862745, 0.79607843, 0.82745098]]])"
      ]
     },
     "execution_count": 13,
     "metadata": {},
     "output_type": "execute_result"
    }
   ],
   "source": [
    "im1"
   ]
  },
  {
   "cell_type": "code",
   "execution_count": null,
   "metadata": {},
   "outputs": [],
   "source": [
    "im1_aligned, im2_aligned = align_images(im1, im2)\n",
    "im1 = im1_aligned[80:,:450]\n",
    "im2 = im2_aligned[80:,:450]"
   ]
  },
  {
   "cell_type": "code",
   "execution_count": 46,
   "metadata": {},
   "outputs": [],
   "source": [
    "points1 = correspondencies(im1, 44)"
   ]
  },
  {
   "cell_type": "code",
   "execution_count": 47,
   "metadata": {},
   "outputs": [],
   "source": [
    "points2 = correspondencies(im2, 44)"
   ]
  },
  {
   "cell_type": "code",
   "execution_count": 180,
   "metadata": {},
   "outputs": [
    {
     "name": "stderr",
     "output_type": "stream",
     "text": [
      "C:\\Users\\wangkehua\\Anaconda3\\envs\\booknlp\\lib\\site-packages\\skimage\\util\\dtype.py:122: UserWarning: Possible precision loss when converting from float64 to uint8\n",
      "  .format(dtypeobj_in, dtypeobj_out))\n"
     ]
    }
   ],
   "source": [
    "file = open(\"lucy_points.txt\", \"w\")\n",
    "file.write(str(points1))\n",
    "file.close()\n",
    "\n",
    "file = open(\"yanchu_points.txt\", \"w\")\n",
    "file.write(str(points2))\n",
    "file.close()\n",
    "\n",
    "skio.imsave(\"lucy_aligned.jpg\", im1)\n",
    "skio.imsave(\"yanchu_aligned.jpg\", im2)"
   ]
  },
  {
   "cell_type": "code",
   "execution_count": null,
   "metadata": {},
   "outputs": [],
   "source": [
    "# name = 'lucy_aligned.jpg'\n",
    "# im1 = skio.imread(name) \n",
    "# im1 = sk.img_as_float(im1)\n",
    "\n",
    "# name = 'yanchu_aligned.jpg'\n",
    "# im2 = skio.imread(name) \n",
    "# im2 = sk.img_as_float(im2)"
   ]
  },
  {
   "cell_type": "code",
   "execution_count": null,
   "metadata": {},
   "outputs": [],
   "source": [
    "points1 = np.array(points1)\n",
    "points2 = np.array(points2)\n",
    "\n",
    "tri1 = Delaunay(points1)\n",
    "tri2 = Delaunay(points2)\n",
    "\n",
    "plt.triplot(points1[:,0], points1[:,1], tri1.simplices)\n",
    "plt.plot(points1[:,0], points1[:,1], 'o')\n",
    "plt.imshow(im1)\n",
    "plt.axis('off')\n",
    "plt.savefig(\"lucy_tri.jpg\", dpi = 200)\n",
    "plt.show()"
   ]
  },
  {
   "cell_type": "code",
   "execution_count": 50,
   "metadata": {
    "scrolled": false
   },
   "outputs": [],
   "source": [
    "plt.triplot(points2[:,0], points2[:,1], tri2.simplices)\n",
    "plt.plot(points2[:,0], points2[:,1], 'o')\n",
    "plt.imshow(im2)\n",
    "plt.axis('off')\n",
    "plt.savefig(\"yanchu_tri.jpg\", dpi = 200)\n",
    "plt.show()"
   ]
  },
  {
   "cell_type": "markdown",
   "metadata": {},
   "source": [
    "## Compute the Mid-way Face"
   ]
  },
  {
   "cell_type": "code",
   "execution_count": null,
   "metadata": {},
   "outputs": [],
   "source": [
    "def midway(points1, points2, alpha):\n",
    "    mid_points = (1 - alpha) * points1 + alpha * points2\n",
    "    tri_mid = Delaunay(mid_points)\n",
    "    return np.array(mid_points), tri_mid"
   ]
  },
  {
   "cell_type": "code",
   "execution_count": null,
   "metadata": {},
   "outputs": [],
   "source": [
    "def find_middle(alpha, im1, im2, points1, points2):\n",
    "    mid, tri_mid = midway(points1, points2, alpha)\n",
    "    mid_face_all = []\n",
    "    for channel in range(3):\n",
    "        mid_face = np.zeros([im1.shape[0], im1.shape[1]])\n",
    "        for i in range(len(tri_mid.simplices)):\n",
    "            triangle1 = np.array([list(points1[k]) for k in tri_mid.simplices[i]])\n",
    "            triangle2 = np.array([list(points2[k]) for k in tri_mid.simplices[i]])\n",
    "            mid_triangle = mid[tri_mid.simplices[i]]\n",
    "\n",
    "            A = np.vstack([triangle1.T, np.array([1, 1, 1])])\n",
    "            B = np.vstack([triangle2.T, np.array([1, 1, 1])])\n",
    "            T1 = np.vstack([mid_triangle.T @ np.linalg.inv(A), np.array([0, 0, 1])])\n",
    "            T2 = np.vstack([mid_triangle.T @ np.linalg.inv(B), np.array([0, 0, 1])])\n",
    "\n",
    "            row, col = polygon(mid_triangle[:,0], mid_triangle[:,1])\n",
    "            M = np.vstack([row, col, np.ones(len(row))])\n",
    "            im1_interp = np.linalg.inv(T1) @ M\n",
    "            im2_interp = np.linalg.inv(T2) @ M\n",
    "            \n",
    "            #Interpolate\n",
    "            f1 = interpolate.interp2d(range(im1.shape[1]), range(im1.shape[0]), im1[:,:,channel])\n",
    "            f2 = interpolate.interp2d(range(im2.shape[1]), range(im2.shape[0]), im2[:,:,channel])\n",
    "            for j in range(len(row)):\n",
    "                mid_face[col[j], row[j]] += (1 - alpha) * f1(im1_interp[0, j], im1_interp[1, j])\n",
    "                mid_face[col[j], row[j]] += alpha * f2(im2_interp[0, j], im2_interp[1, j])\n",
    "\n",
    "\n",
    "                \n",
    "        mid_face_all.append(np.clip(mid_face, 0, 1))\n",
    "\n",
    "           \n",
    "    return np.dstack([mid_face_all[0], mid_face_all[1], mid_face_all[2]])\n",
    "        \n",
    "   "
   ]
  },
  {
   "cell_type": "code",
   "execution_count": 81,
   "metadata": {
    "scrolled": true
   },
   "outputs": [],
   "source": [
    "mid_face = find_middle(0.5, im1, im2, points1, points2)\n",
    "plt.imshow(mid_face)\n",
    "plt.axis('off')\n",
    "plt.savefig(\"midface.jpg\", dpi=200)"
   ]
  },
  {
   "cell_type": "markdown",
   "metadata": {},
   "source": [
    "## The Morph Sequence "
   ]
  },
  {
   "cell_type": "code",
   "execution_count": 89,
   "metadata": {},
   "outputs": [],
   "source": [
    "fraction = np.round(np.linspace(0, 1, 30), 2)\n",
    "for frac in fraction:\n",
    "    mid_face = find_middle(frac, im1, im2, points1, points2)\n",
    "    plt.imshow(mid_face)\n",
    "    plt.axis('off')\n",
    "    plt.savefig(\"img_warp/\" + str(np.where(fraction == frac)[0][0]) + \".jpg\", dpi=200)"
   ]
  },
  {
   "cell_type": "code",
   "execution_count": 85,
   "metadata": {},
   "outputs": [
    {
     "data": {
      "text/plain": [
       "<matplotlib.image.AxesImage at 0x21999d02b00>"
      ]
     },
     "execution_count": 85,
     "metadata": {},
     "output_type": "execute_result"
    }
   ],
   "source": [
    "plt.imshow(mid_face)"
   ]
  },
  {
   "cell_type": "markdown",
   "metadata": {},
   "source": [
    "# The Mean Face of a Population"
   ]
  },
  {
   "cell_type": "markdown",
   "metadata": {},
   "source": [
    "#### 1. Compute the mean face of whole population"
   ]
  },
  {
   "cell_type": "code",
   "execution_count": null,
   "metadata": {},
   "outputs": [],
   "source": [
    "folder = \"face_data/data\"\n",
    "imgs = [skio.imread(join(folder, f))/255 for f in listdir(folder) if \".bmp\" in join(folder, f)]"
   ]
  },
  {
   "cell_type": "code",
   "execution_count": 163,
   "metadata": {},
   "outputs": [],
   "source": [
    "def extract_points():\n",
    "    all_points = []\n",
    "    for i in range(len(asf)):\n",
    "        file = open(asf[i], \"r\")\n",
    "        points = []\n",
    "        for line in file.readlines():\n",
    "            if \"\\t\" in line:\n",
    "                point = []\n",
    "                point.append(float(line.split(\"\\t\")[2]) * imgs[i].shape[1])\n",
    "                point.append(float(line.split(\"\\t\")[3]) * imgs[i].shape[0])\n",
    "                points.append(point)\n",
    "        points.append([0, imgs[i].shape[0]])\n",
    "        points.append([imgs[i].shape[1], 0])\n",
    "        points.append([imgs[i].shape[1], imgs[i].shape[0]])\n",
    "        points.append([0, 0])\n",
    "        all_points.append(np.array(points))\n",
    "    return all_points"
   ]
  },
  {
   "cell_type": "code",
   "execution_count": 164,
   "metadata": {},
   "outputs": [],
   "source": [
    "asf = [join(folder, f) for f in listdir(folder) if \".asf\" in join(folder, f)]\n",
    "all_points = extract_points()"
   ]
  },
  {
   "cell_type": "code",
   "execution_count": 165,
   "metadata": {},
   "outputs": [],
   "source": [
    "def mean_shape():\n",
    "    mean_points = sum(all_points) / len(all_points)\n",
    "    tri_mean = Delaunay(mean_points)\n",
    "    return np.array(mean_points), tri_mean"
   ]
  },
  {
   "cell_type": "code",
   "execution_count": 167,
   "metadata": {},
   "outputs": [
    {
     "data": {
      "text/plain": [
       "<matplotlib.image.AxesImage at 0x21999834278>"
      ]
     },
     "execution_count": 167,
     "metadata": {},
     "output_type": "execute_result"
    }
   ],
   "source": [
    "mid, tri_mid = mean_shape()\n",
    "plt.triplot(mid[:,0], mid[:,1], tri_mid.simplices)\n",
    "plt.plot(mid[:,0], mid[:,1], 'o')\n",
    "plt.imshow(imgs[0])"
   ]
  },
  {
   "cell_type": "code",
   "execution_count": 166,
   "metadata": {},
   "outputs": [
    {
     "data": {
      "text/plain": [
       "<matplotlib.image.AxesImage at 0x2199706a6d8>"
      ]
     },
     "execution_count": 166,
     "metadata": {},
     "output_type": "execute_result"
    }
   ],
   "source": [
    "tri1 = Delaunay(all_points[0])\n",
    "\n",
    "plt.triplot(all_points[0][:,0], all_points[0][:,1], tri1.simplices)\n",
    "plt.plot(all_points[0][:,0], all_points[0][:,1], 'o')\n",
    "plt.imshow(imgs[0])"
   ]
  },
  {
   "cell_type": "code",
   "execution_count": 175,
   "metadata": {},
   "outputs": [],
   "source": [
    "def find_mean():\n",
    "    mid, tri_mid = mean_shape()\n",
    "    mid_face_all = []\n",
    "    for channel in range(3):\n",
    "        mid_face = np.zeros([imgs[0].shape[0], imgs[1].shape[1]])\n",
    "        for i in range(len(tri_mid.simplices)):\n",
    "            \n",
    "            mid_triangle = mid[tri_mid.simplices[i]]\n",
    "            row, col = polygon(mid_triangle[:,0], mid_triangle[:,1])\n",
    "            M = np.vstack([row, col, np.ones(len(row))])\n",
    "            \n",
    "            for j in range(len(imgs)):\n",
    "                triangle = np.array([list(all_points[j][k]) for k in tri_mid.simplices[i]])\n",
    "                A = np.vstack([triangle.T, np.array([1, 1, 1])])\n",
    "                T = np.vstack([mid_triangle.T @ np.linalg.inv(A), np.array([0, 0, 1])])\n",
    "                im_interp = np.linalg.inv(T) @ M\n",
    "                \n",
    "                \n",
    "                #Interpolate\n",
    "                f = interpolate.interp2d(range(imgs[j].shape[1]), range(imgs[j].shape[0]), imgs[j][:,:,channel])\n",
    "                for k in range(len(row)):\n",
    "                    mid_face[col[k], row[k]] += f(im_interp[0, k], im_interp[1, k]) / len(imgs)\n",
    "\n",
    "        mid_face_all.append(mid_face)\n",
    "\n",
    "           \n",
    "    return np.dstack([mid_face_all[0], mid_face_all[1], mid_face_all[2]])\n",
    "        \n",
    "    "
   ]
  },
  {
   "cell_type": "code",
   "execution_count": 171,
   "metadata": {},
   "outputs": [],
   "source": [
    "mean_face = find_mean()\n",
    "plt.imshow(mean_face)\n",
    "plt.axis('off')\n",
    "plt.savefig(\"mean_population_face.jpg\", dpi=200)"
   ]
  },
  {
   "cell_type": "markdown",
   "metadata": {},
   "source": [
    "#### 2. Morph each face into mean face"
   ]
  },
  {
   "cell_type": "code",
   "execution_count": 186,
   "metadata": {},
   "outputs": [],
   "source": [
    "def morph_into_mean(imgs, all_points, name=None):\n",
    "    mid, tri_mid = mean_shape()\n",
    "    for j in range(len(imgs)):\n",
    "        mid_face_all = []\n",
    "        for channel in range(3):\n",
    "            mid_face = np.zeros([imgs[0].shape[0], imgs[1].shape[1]])\n",
    "            for i in range(len(tri_mid.simplices)):\n",
    "\n",
    "                mid_triangle = mid[tri_mid.simplices[i]]\n",
    "                row, col = polygon(mid_triangle[:,0], mid_triangle[:,1])\n",
    "                M = np.vstack([row, col, np.ones(len(row))])\n",
    "\n",
    "                triangle = np.array([list(all_points[j][k]) for k in tri_mid.simplices[i]])\n",
    "                A = np.vstack([triangle.T, np.array([1, 1, 1])])\n",
    "                T = np.vstack([mid_triangle.T @ np.linalg.inv(A), np.array([0, 0, 1])])\n",
    "                im_interp = np.linalg.inv(T) @ M\n",
    "\n",
    "                #Interpolate\n",
    "                f = interpolate.interp2d(range(imgs[j].shape[1]), range(imgs[j].shape[0]), imgs[j][:,:,channel])\n",
    "                for k in range(len(row)):\n",
    "                    mid_face[col[k], row[k]] += f(im_interp[0, k], im_interp[1, k])\n",
    "\n",
    "            mid_face_all.append(mid_face)\n",
    "            \n",
    "        warp_img = np.dstack([mid_face_all[0], mid_face_all[1], mid_face_all[2]])\n",
    "        plt.imshow(warp_img)\n",
    "        plt.axis('off')\n",
    "        if len(imgs) == 1:\n",
    "            plt.savefig(\"face_data/\" + name, dpi=200)\n",
    "        plt.savefig(\"face_data/\" + str(j) + \".jpg\", dpi=200)\n",
    "        \n",
    "        \n",
    "morph_into_mean(imgs, all_points)    "
   ]
  },
  {
   "cell_type": "markdown",
   "metadata": {},
   "source": [
    "#### Morph myself into mean face"
   ]
  },
  {
   "cell_type": "code",
   "execution_count": null,
   "metadata": {},
   "outputs": [],
   "source": [
    "points_me = correspondencies(im1, 58)\n",
    "points_me = np.array(points_me)"
   ]
  },
  {
   "cell_type": "code",
   "execution_count": null,
   "metadata": {},
   "outputs": [],
   "source": [
    "morph_into_mean(list(im1), list(points_me), \"my_into_mean.jpg\")"
   ]
  },
  {
   "cell_type": "markdown",
   "metadata": {},
   "source": [
    "#### Morph mean face into my geometry "
   ]
  },
  {
   "cell_type": "code",
   "execution_count": null,
   "metadata": {},
   "outputs": [],
   "source": [
    "mean_face\n"
   ]
  },
  {
   "cell_type": "code",
   "execution_count": null,
   "metadata": {},
   "outputs": [],
   "source": [
    "def morph_into_me(imgs, all_points, name):\n",
    "    mid, tri_mid = mean_shape()\n",
    "    mid_face_all = []\n",
    "    for j in range(len(imgs)):\n",
    "        for channel in range(3):\n",
    "            mid_face = np.zeros([imgs[0].shape[0], imgs[1].shape[1]])\n",
    "            for i in range(len(tri_mid.simplices)):\n",
    "\n",
    "                mid_triangle = mid[tri_mid.simplices[i]]\n",
    "                row, col = polygon(mid_triangle[:,0], mid_triangle[:,1])\n",
    "                M = np.vstack([row, col, np.ones(len(row))])\n",
    "\n",
    "                triangle = np.array([list(all_points[j][k]) for k in tri_mid.simplices[i]])\n",
    "                A = np.vstack([triangle.T, np.array([1, 1, 1])])\n",
    "                T = np.vstack([mid_triangle.T @ np.linalg.inv(A), np.array([0, 0, 1])])\n",
    "                im_interp = np.linalg.inv(T) @ M\n",
    "\n",
    "                #Interpolate\n",
    "                f = interpolate.interp2d(range(imgs[j].shape[1]), range(imgs[j].shape[0]), imgs[j][:,:,channel])\n",
    "                for j in range(len(row)):\n",
    "                    mid_face[row[j], col[j]] += f(im_interp[0, j], im_interp[1, j])\n",
    "\n",
    "            mid_face_all.append(mid_face)\n",
    "            \n",
    "        warp_img = np.dstack([mid_face_all[0], mid_face_all[1], mid_face_all[2]])\n",
    "        plt.imshow(warp_img)\n",
    "        plt.axis('off')\n",
    "        if len(imgs) == 1:\n",
    "            plt.savefig(\"face_data/\" + name, dpi=200)\n",
    "        plt.savefig(\"face_data/\" + str(j) + \".jpg\", dpi=200)\n",
    "        \n",
    "        \n",
    "morph_into_mean(imgs)"
   ]
  },
  {
   "cell_type": "code",
   "execution_count": null,
   "metadata": {},
   "outputs": [],
   "source": []
  },
  {
   "cell_type": "code",
   "execution_count": null,
   "metadata": {},
   "outputs": [],
   "source": []
  },
  {
   "cell_type": "markdown",
   "metadata": {},
   "source": [
    "### Bells & Whistles"
   ]
  },
  {
   "cell_type": "code",
   "execution_count": 191,
   "metadata": {},
   "outputs": [],
   "source": [
    "name = 'ken.jpg'\n",
    "im_ken = skio.imread(name) \n",
    "im_ken = sk.img_as_float(im_ken)\n",
    "\n",
    "name = 'lucy2.jpg'\n",
    "im_lucy = skio.imread(name) \n",
    "im_lucy = sk.img_as_float(im_lucy)\n",
    "\n",
    "name = 'george.jpg'\n",
    "im_george = skio.imread(name) \n",
    "im_george = sk.img_as_float(im_george)"
   ]
  },
  {
   "cell_type": "code",
   "execution_count": 195,
   "metadata": {},
   "outputs": [
    {
     "name": "stdout",
     "output_type": "stream",
     "text": [
      "Please select 2 points in each image for alignment.\n"
     ]
    },
    {
     "name": "stderr",
     "output_type": "stream",
     "text": [
      "C:\\Users\\wangkehua\\Anaconda3\\envs\\booknlp\\lib\\site-packages\\skimage\\transform\\_warps.py:84: UserWarning: The default mode, 'constant', will be changed to 'reflect' in skimage 0.15.\n",
      "  warn(\"The default mode, 'constant', will be changed to 'reflect' in \"\n"
     ]
    }
   ],
   "source": [
    "im_ken_aligned, im_lucy_aligned = align_images(im_ken, im_lucy)"
   ]
  },
  {
   "cell_type": "code",
   "execution_count": 206,
   "metadata": {},
   "outputs": [
    {
     "name": "stderr",
     "output_type": "stream",
     "text": [
      "C:\\Users\\wangkehua\\Anaconda3\\envs\\booknlp\\lib\\site-packages\\skimage\\util\\dtype.py:122: UserWarning: Possible precision loss when converting from float64 to uint8\n",
      "  .format(dtypeobj_in, dtypeobj_out))\n"
     ]
    }
   ],
   "source": [
    "im_ken = im_ken_aligned[240:990, 110:712]\n",
    "im_lucy = im_lucy_aligned[240:990, 110:712]\n",
    "skio.imsave(\"lucy2_aligned.jpg\", im_lucy)\n",
    "skio.imsave(\"ken_aligned.jpg\", im_ken)"
   ]
  },
  {
   "cell_type": "code",
   "execution_count": 210,
   "metadata": {},
   "outputs": [],
   "source": [
    "points_lucy = correspondencies(im_lucy, 44)"
   ]
  },
  {
   "cell_type": "code",
   "execution_count": 211,
   "metadata": {},
   "outputs": [],
   "source": [
    "points_ken = correspondencies(im_ken, 44)"
   ]
  },
  {
   "cell_type": "code",
   "execution_count": 215,
   "metadata": {},
   "outputs": [],
   "source": [
    "points_lucy = np.array(points_lucy)\n",
    "points_ken = np.array(points_ken)\n",
    "file = open(\"lucy2_points.txt\", \"w\")\n",
    "file.write(str(points_lucy))\n",
    "file.close()\n",
    "\n",
    "file = open(\"ken_points.txt\", \"w\")\n",
    "file.write(str(points_ken))\n",
    "file.close()"
   ]
  },
  {
   "cell_type": "code",
   "execution_count": null,
   "metadata": {},
   "outputs": [],
   "source": [
    "fraction = np.round(np.linspace(0, 1, 30), 2)\n",
    "for frac in fraction:\n",
    "    mid_face = find_middle(frac, im_lucy, im_ken, points_lucy, points_ken)\n",
    "    plt.imshow(mid_face)\n",
    "    plt.axis('off')\n",
    "    plt.savefig(\"lucy_to_ken/\" + str(np.where(fraction == frac)[0][0]) + \".jpg\", dpi=200)"
   ]
  },
  {
   "cell_type": "code",
   "execution_count": null,
   "metadata": {},
   "outputs": [],
   "source": []
  }
 ],
 "metadata": {
  "kernelspec": {
   "display_name": "Python 3",
   "language": "python",
   "name": "python3"
  },
  "language_info": {
   "codemirror_mode": {
    "name": "ipython",
    "version": 3
   },
   "file_extension": ".py",
   "mimetype": "text/x-python",
   "name": "python",
   "nbconvert_exporter": "python",
   "pygments_lexer": "ipython3",
   "version": "3.6.7"
  }
 },
 "nbformat": 4,
 "nbformat_minor": 2
}
